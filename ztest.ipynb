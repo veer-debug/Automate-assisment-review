{
 "cells": [
  {
   "cell_type": "code",
   "execution_count": 16,
   "metadata": {},
   "outputs": [],
   "source": [
    "l=[1,2,3,4,-1,2,-3,-5]"
   ]
  },
  {
   "cell_type": "code",
   "execution_count": 23,
   "metadata": {},
   "outputs": [],
   "source": [
    "def sol(l):\n",
    "    ans=sum(l)\n",
    "    start=0\n",
    "    end=len(l)-1\n",
    "    while start<=end:\n",
    "        if l[start]>l[end]:\n",
    "            temp=ans-l[end]\n",
    "            if temp>ans:\n",
    "                ans=temp\n",
    "            end-=1\n",
    "        else:\n",
    "            temp=ans-l[start]\n",
    "            if temp>ans:\n",
    "                ans=temp\n",
    "            start+=1\n",
    "    return ans**2"
   ]
  },
  {
   "cell_type": "code",
   "execution_count": 24,
   "metadata": {},
   "outputs": [
    {
     "data": {
      "text/plain": [
       "144"
      ]
     },
     "execution_count": 24,
     "metadata": {},
     "output_type": "execute_result"
    }
   ],
   "source": [
    "sol(l)"
   ]
  }
 ],
 "metadata": {
  "kernelspec": {
   "display_name": "base",
   "language": "python",
   "name": "python3"
  },
  "language_info": {
   "codemirror_mode": {
    "name": "ipython",
    "version": 3
   },
   "file_extension": ".py",
   "mimetype": "text/x-python",
   "name": "python",
   "nbconvert_exporter": "python",
   "pygments_lexer": "ipython3",
   "version": "3.12.4"
  }
 },
 "nbformat": 4,
 "nbformat_minor": 2
}
